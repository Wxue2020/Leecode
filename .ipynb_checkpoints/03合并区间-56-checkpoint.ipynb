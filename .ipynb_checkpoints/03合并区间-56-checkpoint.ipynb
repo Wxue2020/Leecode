{
 "cells": [
  {
   "cell_type": "code",
   "execution_count": 1,
   "metadata": {},
   "outputs": [],
   "source": [
    "import numpy as np"
   ]
  },
  {
   "cell_type": "code",
   "execution_count": 2,
   "metadata": {},
   "outputs": [
    {
     "data": {
      "text/plain": [
       "[[1, 3], [2, 6], [8, 10], [15, 18]]"
      ]
     },
     "execution_count": 2,
     "metadata": {},
     "output_type": "execute_result"
    }
   ],
   "source": [
    "# Test sort\n",
    "intervals = [[1,3],[8,10],[2,6],[15,18]]\n",
    "\n",
    "# intervals = np.sort(intervals, axis=0)\n",
    "intervals.sort()\n",
    "intervals"
   ]
  },
  {
   "cell_type": "code",
   "execution_count": 3,
   "metadata": {},
   "outputs": [
    {
     "data": {
      "text/plain": [
       "[1, 3]"
      ]
     },
     "execution_count": 3,
     "metadata": {},
     "output_type": "execute_result"
    }
   ],
   "source": [
    "intervals[0]"
   ]
  },
  {
   "cell_type": "markdown",
   "metadata": {},
   "source": [
    "## 思路1\n",
    "bug：未考虑第一个范围大于第二个的情况\n",
    "[1,4] [2,3]\n",
    "\n",
    "结果应该是[1，4]，该代码是[1，3]\n",
    "```python\n",
    "class Solution(object):\n",
    "    def merge(self, intervals):\n",
    "        \"\"\"\n",
    "        :type intervals: List[List[int]]\n",
    "        :rtype: List[List[int]]\n",
    "        \"\"\"\n",
    "\n",
    "        intervals.sort()\n",
    "        i = 0\n",
    "\n",
    "        for n in range(len(intervals)-1):\n",
    "            if intervals[i][1] >= intervals[i+1][0]:\n",
    "                intervals[i] = [intervals[i][0], intervals[i+1][1]]\n",
    "                del intervals[i+1]\n",
    "            else:i = i + 1\n",
    "        return intervals\n",
    "```"
   ]
  },
  {
   "cell_type": "markdown",
   "metadata": {},
   "source": [
    "## 修改："
   ]
  },
  {
   "cell_type": "code",
   "execution_count": 4,
   "metadata": {},
   "outputs": [],
   "source": [
    "class Solution(object):\n",
    "    def merge(self, intervals):\n",
    "        \"\"\"\n",
    "        :type intervals: List[List[int]]\n",
    "        :rtype: List[List[int]]\n",
    "        \"\"\"\n",
    "\n",
    "        intervals.sort()\n",
    "        i = 0\n",
    "\n",
    "        for n in range(len(intervals)-1):\n",
    "            if (intervals[i][1] >= intervals[i+1][0]):\n",
    "                if intervals[i][1] < intervals[i+1][1]:\n",
    "                    intervals[i] = [intervals[i][0], intervals[i+1][1]]\n",
    "                    del intervals[i+1]\n",
    "                else:\n",
    "                    del intervals[i+1]  # intervals 不变\n",
    "            else:i = i + 1\n",
    "        return intervals"
   ]
  },
  {
   "cell_type": "code",
   "execution_count": 5,
   "metadata": {},
   "outputs": [],
   "source": [
    "intervals1 = [[1,3],[2,6],[8,10],[15,18]]\n",
    "intervals2 = [[1,4],[4,5]]\n",
    "intervals3 = [[1,4],[2,3]]"
   ]
  },
  {
   "cell_type": "code",
   "execution_count": 6,
   "metadata": {},
   "outputs": [],
   "source": [
    "merge = Solution()"
   ]
  },
  {
   "cell_type": "code",
   "execution_count": 7,
   "metadata": {},
   "outputs": [
    {
     "data": {
      "text/plain": [
       "[[1, 6], [8, 10], [15, 18]]"
      ]
     },
     "execution_count": 7,
     "metadata": {},
     "output_type": "execute_result"
    }
   ],
   "source": [
    "merge.merge(intervals1)"
   ]
  },
  {
   "cell_type": "code",
   "execution_count": 8,
   "metadata": {},
   "outputs": [
    {
     "data": {
      "text/plain": [
       "[[1, 5]]"
      ]
     },
     "execution_count": 8,
     "metadata": {},
     "output_type": "execute_result"
    }
   ],
   "source": [
    "merge.merge(intervals2)"
   ]
  },
  {
   "cell_type": "code",
   "execution_count": 9,
   "metadata": {},
   "outputs": [
    {
     "data": {
      "text/plain": [
       "[[1, 4]]"
      ]
     },
     "execution_count": 9,
     "metadata": {},
     "output_type": "execute_result"
    }
   ],
   "source": [
    "merge.merge(intervals3)"
   ]
  },
  {
   "cell_type": "markdown",
   "metadata": {},
   "source": [
    "## 官方题解\n",
    "删除思想换成向空数据结构**添加**的思想\n",
    "\n",
    "### 算法\n",
    "\n",
    "我们用数组`merged`存储最终的答案。\n",
    "\n",
    "- 首先，我们将列表中的区间按照左端点升序排序。然后我们将第一个区间加入 merged 数组中，并按顺序依次考虑之后的每个区间\n",
    "- 如果当前区间的左端点在数组 merged 中最后一个区间的右端点之后，那么它们不会重合，我们可以直接将这个区间加入数组 merged 的末尾；\n",
    "- 否则，它们重合，我们需要用当前区间的右端点更新数组 merged 中最后一个区间的右端点，将其置为二者的较大值。\n",
    "\n",
    "### 正确性证明\n",
    "\n",
    "上述算法的正确性可以用反证法来证明：\n",
    "在排完序后的数组中，两个本应合并的区间没能被合并，那么说明存在这样的三元组 (i, j, k)(i,j, k) 以及数组中的三个区间 a[i], a[j], a[k]a[i],a[j],a[k] 满足i<j<k 并且 (a[i], a[k])(a[i],a[k]) 可以合并，但 (a[i], a[j])和 (a[j], a[k])不能合并。这说明它们满足下面的不等式：\n",
    "\n",
    "- a[i].end<a[j].start(a[i] 和 a[j] 不能合并)\n",
    "- a[j].end<a[k].start(a[j] 和 a[k] 不能合并)\n",
    "- a[i].end≥a[k].start(a[i] 和 a[k] 可以合并)\n",
    "\n",
    "\n",
    "我们联立这些不等式（注意还有一个显然的不等式 a[j].start≤a[j].end），可以得到：\n",
    "- a[i].end<a[j].start≤a[j].end<a[k].start\n",
    "\n",
    "产生了矛盾！这说明假设是不成立的。因此，所有能够合并的区间都必然是连续的。\n",
    "\n",
    "\n",
    "### 复杂度分析\n",
    "\n",
    "- 时间复杂度：O(nlogn)，其中 n 为区间的数量。除去排序的开销，我们只需要一次线性扫描，所以主要的时间开销是排序的 O(nlogn)。\n",
    "\n",
    "- 空间复杂度：O(logn)，其中 n 为区间的数量。这里计算的是存储答案之外，使用的额外空间。O(logn) 即为排序所需要的空间复杂度。\n",
    "\n",
    "-----------------------------------------\n",
    "作者：LeetCode-Solution\n",
    "\n",
    "链接：https://leetcode-cn.com/problems/merge-intervals/solution/he-bing-qu-jian-by-leetcode-solution/\n",
    "\n",
    "来源：力扣（LeetCode）\n",
    "\n",
    "著作权归作者所有。商业转载请联系作者获得授权，非商业转载请注明出处。\n"
   ]
  },
  {
   "cell_type": "code",
   "execution_count": 12,
   "metadata": {},
   "outputs": [],
   "source": [
    "class Solution(object):\n",
    "    def merge(self, intervals):\n",
    "\n",
    "        \"\"\"\n",
    "        :type intervals: List[List[int]]\n",
    "        :rtype: List[List[int]]\n",
    "        \"\"\"\n",
    "        intervals.sort(key=lambda x : x[0]) # bug：忘记key\n",
    "        \n",
    "        merged = []\n",
    "        for interval in intervals:\n",
    "            # 如果列表为空，或者当前区间与上一区间不重合，直接添加\n",
    "            if not merged or merged[-1][1] < interval[0]:   # bug:merged 少打字母d\n",
    "                merged.append(interval)\n",
    "            else:\n",
    "            # 否则与上一区间合并\n",
    "                merged[-1][1] =  max(merged[-1][1], interval[1])\n",
    "        return merged"
   ]
  },
  {
   "cell_type": "code",
   "execution_count": null,
   "metadata": {},
   "outputs": [],
   "source": []
  }
 ],
 "metadata": {
  "kernelspec": {
   "display_name": "Python 3",
   "language": "python",
   "name": "python3"
  },
  "language_info": {
   "codemirror_mode": {
    "name": "ipython",
    "version": 3
   },
   "file_extension": ".py",
   "mimetype": "text/x-python",
   "name": "python",
   "nbconvert_exporter": "python",
   "pygments_lexer": "ipython3",
   "version": "3.8.3"
  }
 },
 "nbformat": 4,
 "nbformat_minor": 4
}
