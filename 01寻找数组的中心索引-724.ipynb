{
 "cells": [
  {
   "cell_type": "markdown",
   "metadata": {},
   "source": [
    "### 寻找数组的中心索引\n",
    "\n",
    "给你一个整数数组 nums，请编写一个能够返回数组 “中心索引” 的方法。\n",
    "\n",
    "数组 中心索引 是数组的一个索引，其左侧所有元素相加的和等于右侧所有元素相加的和。\n",
    "\n",
    "如果数组不存在中心索引，返回 -1 。如果数组有多个中心索引，应该返回最靠近左边的那一个。\n",
    "\n",
    "注意：中心索引可能出现在数组的两端。\n",
    "\n",
    " \n",
    "\n",
    "#### 示例 1：\n",
    "\n",
    "输入：nums = [1, 7, 3, 6, 5, 6]\n",
    "\n",
    "输出：3\n",
    "\n",
    "解释：\n",
    "\n",
    "中心索引是 3 。\n",
    "\n",
    "左侧数之和 (1 + 7 + 3 = 11)，\n",
    "\n",
    "右侧数之和 (5 + 6 = 11) ，二者相等。\n",
    "\n",
    "\n",
    "\n",
    "#### 示例 2：\n",
    "\n",
    "输入：nums = [1, 2, 3]\n",
    "\n",
    "输出：-1\n",
    "\n",
    "解释：\n",
    "\n",
    "数组中不存在满足此条件的中心索引。\n",
    "\n",
    "\n",
    "#### 示例 3：\n",
    "\n",
    "输入：nums = [2, 1, -1]\n",
    "\n",
    "输出：0\n",
    "\n",
    "解释：\n",
    "\n",
    "中心索引是 0 。\n",
    "\n",
    "索引 0 左侧不存在元素，视作和为 0 ；\n",
    "\n",
    "右侧数之和为 1 + (-1) = 0 ，二者相等。\n",
    " \n",
    "\n",
    "#### 提示：\n",
    "\n",
    "nums 的长度范围为 [0, 10000]。\n",
    "\n",
    "任何一个 nums[i] 将会是一个范围在 [-1000, 1000]的整数。\n",
    "\n",
    "相关标签：数组\n",
    "\n",
    "作者：力扣 (LeetCode)\n",
    "链接：https://leetcode-cn.com/leetbook/read/array-and-string/yf47s/\n",
    "来源：力扣（LeetCode）\n",
    "著作权归作者所有。商业转载请联系作者获得授权，非商业转载请注明出处。"
   ]
  },
  {
   "cell_type": "markdown",
   "metadata": {},
   "source": [
    "bug过程： return -1 写到循环里面了 "
   ]
  },
  {
   "cell_type": "code",
   "execution_count": 2,
   "metadata": {},
   "outputs": [],
   "source": [
    "class Solution(object):\n",
    "    def pivotIndex(self, nums):\n",
    "        \"\"\"\n",
    "        :type nums: List[int]\n",
    "        :rtype: int\n",
    "        \"\"\"\n",
    "        N = len(nums)\n",
    "        total = sum(nums)\n",
    "        preSum = 0\n",
    "        for i in range(N):\n",
    "            if preSum == total - preSum - nums[i]:\n",
    "                return i\n",
    "            preSum += nums[i]\n",
    "        return -1"
   ]
  },
  {
   "cell_type": "code",
   "execution_count": 3,
   "metadata": {},
   "outputs": [],
   "source": [
    "num1 = [1, 7, 3, 6, 5, 6]\n",
    "num2 = [1, 2, 3]\n",
    "num3 = [2, 1, -1]\n",
    "\n",
    "num = Solution()"
   ]
  },
  {
   "cell_type": "code",
   "execution_count": 7,
   "metadata": {},
   "outputs": [
    {
     "data": {
      "text/plain": [
       "3"
      ]
     },
     "execution_count": 7,
     "metadata": {},
     "output_type": "execute_result"
    }
   ],
   "source": [
    "num.pivotIndex(num1)"
   ]
  },
  {
   "cell_type": "code",
   "execution_count": 8,
   "metadata": {},
   "outputs": [
    {
     "data": {
      "text/plain": [
       "-1"
      ]
     },
     "execution_count": 8,
     "metadata": {},
     "output_type": "execute_result"
    }
   ],
   "source": [
    "num.pivotIndex(num2)"
   ]
  },
  {
   "cell_type": "code",
   "execution_count": 9,
   "metadata": {},
   "outputs": [
    {
     "data": {
      "text/plain": [
       "0"
      ]
     },
     "execution_count": 9,
     "metadata": {},
     "output_type": "execute_result"
    }
   ],
   "source": [
    "num.pivotIndex(num3)"
   ]
  }
 ],
 "metadata": {
  "kernelspec": {
   "display_name": "Python 3",
   "language": "python",
   "name": "python3"
  },
  "language_info": {
   "codemirror_mode": {
    "name": "ipython",
    "version": 3
   },
   "file_extension": ".py",
   "mimetype": "text/x-python",
   "name": "python",
   "nbconvert_exporter": "python",
   "pygments_lexer": "ipython3",
   "version": "3.8.3"
  }
 },
 "nbformat": 4,
 "nbformat_minor": 4
}
